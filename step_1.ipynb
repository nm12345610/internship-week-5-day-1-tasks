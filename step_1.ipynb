{
  "nbformat": 4,
  "nbformat_minor": 0,
  "metadata": {
    "colab": {
      "provenance": []
    },
    "kernelspec": {
      "name": "python3",
      "display_name": "Python 3"
    },
    "language_info": {
      "name": "python"
    }
  },
  "cells": [
    {
      "cell_type": "code",
      "execution_count": 1,
      "metadata": {
        "colab": {
          "base_uri": "https://localhost:8080/"
        },
        "id": "asFopiYbPJmT",
        "outputId": "997439b3-b378-4905-9621-42c2c5d6b463"
      },
      "outputs": [
        {
          "output_type": "stream",
          "name": "stdout",
          "text": [
            "     CustomerID  Age  Gender MaritalStatus  AnnualIncome  TotalPurchases  \\\n",
            "0             1   64    Male        Single       35572.0               2   \n",
            "1             2   30  Female        Single       36139.0              12   \n",
            "2             3   63  Female       Married       68065.0              21   \n",
            "3             4   54    Male        Single       62807.0              14   \n",
            "4             5   60    Male        Single       86321.0              31   \n",
            "..          ...  ...     ...           ...           ...             ...   \n",
            "505           6   47    Male       Married       35533.0              11   \n",
            "506           7   42    Male        Single       32552.0               9   \n",
            "507           8   25  Female       Married       64953.0              14   \n",
            "508           9   56  Female       Married       87518.0              18   \n",
            "509          10   26    Male        Single       51814.0              49   \n",
            "\n",
            "    PreferredCategory  \n",
            "0               Books  \n",
            "1               Books  \n",
            "2         Electronics  \n",
            "3           Groceries  \n",
            "4               Books  \n",
            "..                ...  \n",
            "505             Books  \n",
            "506             Books  \n",
            "507       Electronics  \n",
            "508          Clothing  \n",
            "509         Groceries  \n",
            "\n",
            "[510 rows x 7 columns]\n"
          ]
        }
      ],
      "source": [
        "import pandas as pd\n",
        "import random\n",
        "\n",
        "# Generate a sample dataset\n",
        "data = []\n",
        "for i in range(1, 501):\n",
        "    age = random.randint(18, 65)\n",
        "    gender = random.choice(['Male', 'Female'])\n",
        "    marital_status = random.choice(['Single', 'Married'])\n",
        "    annual_income = random.randint(30000, 100000)\n",
        "    total_purchases = random.randint(1, 50)\n",
        "    preferred_category = random.choice(['Electronics', 'Clothing', 'Books', 'Groceries'])\n",
        "    data.append([i, age, gender, marital_status, annual_income, total_purchases, preferred_category])\n",
        "\n",
        "# Add some null values\n",
        "for _ in range(5):\n",
        "    data[random.randint(0, len(data) - 1)][random.randint(1, 6)] = None\n",
        "\n",
        "# Create duplicates\n",
        "data.extend(data[:10])\n",
        "\n",
        "# Create a DataFrame\n",
        "columns = ['CustomerID', 'Age', 'Gender', 'MaritalStatus', 'AnnualIncome', 'TotalPurchases', 'PreferredCategory']\n",
        "df = pd.DataFrame(data, columns=columns)\n",
        "\n",
        "# Print the DataFrame\n",
        "print(df)\n",
        "df.to_csv('data.csv')\n"
      ]
    }
  ]
}