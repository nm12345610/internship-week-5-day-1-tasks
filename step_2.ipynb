{
  "nbformat": 4,
  "nbformat_minor": 0,
  "metadata": {
    "colab": {
      "provenance": []
    },
    "kernelspec": {
      "name": "python3",
      "display_name": "Python 3"
    },
    "language_info": {
      "name": "python"
    }
  },
  "cells": [
    {
      "cell_type": "code",
      "execution_count": 2,
      "metadata": {
        "id": "asFopiYbPJmT"
      },
      "outputs": [],
      "source": [
        "import pandas as pd\n",
        "df=pd.read_csv('/content/data.csv')"
      ]
    },
    {
      "cell_type": "code",
      "source": [],
      "metadata": {
        "id": "BQ-ugJcDPoNz"
      },
      "execution_count": 2,
      "outputs": []
    },
    {
      "cell_type": "markdown",
      "source": [
        "step 2"
      ],
      "metadata": {
        "id": "OW-B4fSCPa6a"
      }
    },
    {
      "cell_type": "code",
      "source": [
        "df.info()"
      ],
      "metadata": {
        "colab": {
          "base_uri": "https://localhost:8080/"
        },
        "id": "DoafwU3rKZrl",
        "outputId": "51fce77f-c124-44fb-9424-813c2e335447"
      },
      "execution_count": 3,
      "outputs": [
        {
          "output_type": "stream",
          "name": "stdout",
          "text": [
            "<class 'pandas.core.frame.DataFrame'>\n",
            "RangeIndex: 510 entries, 0 to 509\n",
            "Data columns (total 8 columns):\n",
            " #   Column             Non-Null Count  Dtype  \n",
            "---  ------             --------------  -----  \n",
            " 0   Unnamed: 0         510 non-null    int64  \n",
            " 1   CustomerID         510 non-null    int64  \n",
            " 2   Age                510 non-null    int64  \n",
            " 3   Gender             507 non-null    object \n",
            " 4   MaritalStatus      510 non-null    object \n",
            " 5   AnnualIncome       509 non-null    float64\n",
            " 6   TotalPurchases     510 non-null    int64  \n",
            " 7   PreferredCategory  509 non-null    object \n",
            "dtypes: float64(1), int64(4), object(3)\n",
            "memory usage: 32.0+ KB\n"
          ]
        }
      ]
    },
    {
      "cell_type": "code",
      "source": [
        "df=df.drop_duplicates()\n",
        "df=df.dropna()"
      ],
      "metadata": {
        "id": "UfBJqDcjKkef"
      },
      "execution_count": 4,
      "outputs": []
    },
    {
      "cell_type": "code",
      "source": [
        "df.info()"
      ],
      "metadata": {
        "colab": {
          "base_uri": "https://localhost:8080/"
        },
        "id": "7Mp-g0SBKrGU",
        "outputId": "2927da28-6098-4b18-f165-bc7894053b36"
      },
      "execution_count": 5,
      "outputs": [
        {
          "output_type": "stream",
          "name": "stdout",
          "text": [
            "<class 'pandas.core.frame.DataFrame'>\n",
            "Int64Index: 505 entries, 0 to 509\n",
            "Data columns (total 8 columns):\n",
            " #   Column             Non-Null Count  Dtype  \n",
            "---  ------             --------------  -----  \n",
            " 0   Unnamed: 0         505 non-null    int64  \n",
            " 1   CustomerID         505 non-null    int64  \n",
            " 2   Age                505 non-null    int64  \n",
            " 3   Gender             505 non-null    object \n",
            " 4   MaritalStatus      505 non-null    object \n",
            " 5   AnnualIncome       505 non-null    float64\n",
            " 6   TotalPurchases     505 non-null    int64  \n",
            " 7   PreferredCategory  505 non-null    object \n",
            "dtypes: float64(1), int64(4), object(3)\n",
            "memory usage: 35.5+ KB\n"
          ]
        }
      ]
    }
  ]
}